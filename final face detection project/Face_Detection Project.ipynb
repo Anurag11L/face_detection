{
 "cells": [
  {
   "cell_type": "code",
   "execution_count": 36,
   "id": "a3caa7a2",
   "metadata": {},
   "outputs": [],
   "source": [
    "import cv2\n",
    "import numpy as np\n",
    "import pandas as pd\n",
    "import matplotlib.pyplot as plt\n",
    "import seaborn as sns"
   ]
  },
  {
   "cell_type": "code",
   "execution_count": 37,
   "id": "840c9917",
   "metadata": {},
   "outputs": [],
   "source": [
    "import dlib"
   ]
  },
  {
   "cell_type": "code",
   "execution_count": 38,
   "id": "f63ac8b6",
   "metadata": {},
   "outputs": [],
   "source": [
    "# video_cap = cv2.VideoCapture(0)\n",
    "# while True :\n",
    "#     ret , video_data = video_cap.read()\n",
    "#     cv2.imshow(\"live_video\",video_data)\n",
    "#     if cv2.waitKey(10) == ord(\"a\"):\n",
    "#         break\n",
    "# video_cap.release()"
   ]
  },
  {
   "cell_type": "code",
   "execution_count": 57,
   "id": "5dbfbadf",
   "metadata": {},
   "outputs": [],
   "source": [
    "face_cascade = cv2.CascadeClassifier(\"E:\\Python lectures\\lec 19\\prj face recognition\\cascades\\haarcascade_frontalface_default.xml\")\n",
    "eye_cascade = cv2.CascadeClassifier(\"E:\\Python lectures\\lec 19\\prj face recognition\\cascades\\haarcascade_eye.xml\")\n"
   ]
  },
  {
   "cell_type": "code",
   "execution_count": 58,
   "id": "ec2080cc",
   "metadata": {},
   "outputs": [],
   "source": [
    "cap = cv2.VideoCapture(0)\n"
   ]
  },
  {
   "cell_type": "code",
   "execution_count": 59,
   "id": "8bf95f9a",
   "metadata": {},
   "outputs": [],
   "source": [
    "while 1:\n",
    "    ret, img = cap.read()\n",
    "    gray = cv2.cvtColor(img, cv2.COLOR_BGR2GRAY)\n",
    "    faces = face_cascade.detectMultiScale(gray, 1.3, 5)\n",
    "    \n",
    "    for (x,y,w,h) in faces:\n",
    "        cv2.rectangle(img,(x,y),(x+w,y+h),(255,0,0),2)\n",
    "        roi_gray = gray[y:y+h, x:x+w]\n",
    "        roi_color = img[y:y+h, x:x+w]\n",
    "        \n",
    "        eyes = eye_cascade.detectMultiScale(roi_gray)\n",
    "        for (ex,ey,ew,eh) in eyes:\n",
    "            cv2.rectangle(roi_color,(ex,ey),(ex+ew,ey+eh),(0,255,0),2)\n",
    "            \n",
    "    \n",
    "    cv2.imshow('img',img)\n",
    "    k = cv2.waitKey(30) & 0xff\n",
    "    if k == 27:\n",
    "        break\n",
    "        \n",
    "cap.release()\n",
    "cv2.destroyAllWindows()\n"
   ]
  },
  {
   "cell_type": "code",
   "execution_count": 45,
   "id": "8ac550e1",
   "metadata": {},
   "outputs": [],
   "source": [
    "clock_cap = cv2.CascadeClassifier(\"E:\\Python lectures\\lec 19\\prj face recognition\\cascades\\clocks.xml\")\n"
   ]
  },
  {
   "cell_type": "code",
   "execution_count": 46,
   "id": "b14ad714",
   "metadata": {},
   "outputs": [],
   "source": [
    "cap = cv2.VideoCapture(0)\n"
   ]
  },
  {
   "cell_type": "code",
   "execution_count": 47,
   "id": "c0c92da5",
   "metadata": {},
   "outputs": [],
   "source": [
    "while 1:\n",
    "    ret, img = cap.read()\n",
    "    gray = cv2.cvtColor(img, cv2.COLOR_BGR2GRAY)\n",
    "    clock = clock_cap.detectMultiScale(gray,1.3,5) \n",
    "\n",
    "    for (x,y,w,h) in clock:\n",
    "        cv2.rectangle(img,(x,y),(x+w,y+h),(0,0,255),2)\n",
    "        roi_gray = gray[y:y+h, x:x+w]\n",
    "        roi_color = img[y:y+h, x:x+w]\n",
    "        \n",
    "    cv2.imshow('img',img)\n",
    "    k = cv2.waitKey(30) & 0xff\n",
    "    if k == 27:\n",
    "        break\n",
    "        \n",
    "cap.release()\n",
    "cv2.destroyAllWindows()\n"
   ]
  },
  {
   "cell_type": "code",
   "execution_count": 48,
   "id": "a07ed965",
   "metadata": {},
   "outputs": [],
   "source": [
    "cars_cap = cv2.CascadeClassifier(\"E:\\Python lectures\\lec 19\\prj face recognition\\cascades\\cars.xml\")\n"
   ]
  },
  {
   "cell_type": "code",
   "execution_count": 49,
   "id": "576207f2",
   "metadata": {},
   "outputs": [],
   "source": [
    "cap = cv2.VideoCapture(0)\n"
   ]
  },
  {
   "cell_type": "code",
   "execution_count": 50,
   "id": "be4feec0",
   "metadata": {},
   "outputs": [],
   "source": [
    "while 1:\n",
    "    ret, img = cap.read()\n",
    "    gray = cv2.cvtColor(img, cv2.COLOR_BGR2GRAY)\n",
    "    car = cars_cap.detectMultiScale(gray,1.3,5)\n",
    "    \n",
    "    for (x,y,w,h) in car:\n",
    "        cv2.rectangle(img,(x,y),(x+w,y+h),(0,255,255),2)\n",
    "        roi_gray = gray[y:y+h, x:x+w]\n",
    "        roi_color = img[y:y+h, x:x+w]\n",
    "    \n",
    "    cv2.imshow('img',img)\n",
    "    k = cv2.waitKey(30) & 0xff\n",
    "    if k == 27:\n",
    "        break\n",
    "        \n",
    "cap.release()\n",
    "cv2.destroyAllWindows()\n"
   ]
  },
  {
   "cell_type": "code",
   "execution_count": 51,
   "id": "3ac91ed7",
   "metadata": {},
   "outputs": [],
   "source": [
    "eye_glasses = cv2.CascadeClassifier(\"E:\\Python lectures\\lec 19\\prj face recognition\\cascades\\haarcascade_eye_tree_eyeglasses.xml\")\n"
   ]
  },
  {
   "cell_type": "code",
   "execution_count": 52,
   "id": "fb63c3c7",
   "metadata": {},
   "outputs": [],
   "source": [
    "cap = cv2.VideoCapture(0)\n"
   ]
  },
  {
   "cell_type": "code",
   "execution_count": 53,
   "id": "5c0f7fec",
   "metadata": {},
   "outputs": [],
   "source": [
    "while 1:\n",
    "    ret, img = cap.read()\n",
    "    gray = cv2.cvtColor(img, cv2.COLOR_BGR2GRAY)\n",
    "    glasses = eye_glasses.detectMultiScale(gray,1.3,5)\n",
    "    \n",
    "    \n",
    "    for (ex,ey,ew,eh) in glasses :\n",
    "        cv2.rectangle(img,(x,y),(x+w,y+h),(0,0,0),2)\n",
    "        roi_gray = gray[y:y+h, x:x+w]\n",
    "        roi_color = img[y:y+h, x:x+w]\n",
    "        \n",
    "        \n",
    "    cv2.imshow('img',img)\n",
    "    k = cv2.waitKey(30) & 0xff\n",
    "    if k == 27:\n",
    "        break\n",
    "        \n",
    "cap.release()\n",
    "cv2.destroyAllWindows()\n"
   ]
  },
  {
   "cell_type": "code",
   "execution_count": 54,
   "id": "9deb417c",
   "metadata": {},
   "outputs": [],
   "source": [
    "smile_cap = cv2.CascadeClassifier(\"E:\\Python lectures\\lec 19\\prj face recognition\\cascades\\haarcascade_smile.xml\")\n"
   ]
  },
  {
   "cell_type": "code",
   "execution_count": 55,
   "id": "e3665892",
   "metadata": {},
   "outputs": [],
   "source": [
    "cap = cv2.VideoCapture(0)\n"
   ]
  },
  {
   "cell_type": "code",
   "execution_count": 56,
   "id": "f0a44f0b",
   "metadata": {},
   "outputs": [],
   "source": [
    "while 1:\n",
    "    ret, img = cap.read()\n",
    "    gray = cv2.cvtColor(img, cv2.COLOR_BGR2GRAY)\n",
    "    smile = smile_cap.detectMultiScale(gray,1.3,5)\n",
    "    \n",
    "    for (ex,ey,ew,eh) in smile :\n",
    "        cv2.rectangle(img,(x,y),(x+w,y+h),(255,255,0),2)\n",
    "        roi_gray = gray[y:y+h, x:x+w]\n",
    "        roi_color = img[y:y+h, x:x+w]\n",
    "\n",
    "    cv2.imshow('img',img)\n",
    "    k = cv2.waitKey(30) & 0xff\n",
    "    if k == 27:\n",
    "        break\n",
    "        \n",
    "cap.release()\n",
    "cv2.destroyAllWindows()\n"
   ]
  },
  {
   "cell_type": "code",
   "execution_count": 76,
   "id": "d95ceab6",
   "metadata": {},
   "outputs": [],
   "source": [
    "face_cascade = cv2.CascadeClassifier(\"E:\\Python lectures\\lec 19\\prj face recognition\\cascades\\haarcascade_frontalface_default.xml\")\n",
    "\n",
    "cars_cap = cv2.CascadeClassifier(\"E:\\Python lectures\\lec 19\\prj face recognition\\cascades\\cars.xml\")\n",
    "\n",
    "clock_cap = cv2.CascadeClassifier(\"E:\\Python lectures\\lec 19\\prj face recognition\\cascades\\clocks.xml\")\n",
    "\n",
    "eye_cascade = cv2.CascadeClassifier(\"E:\\Python lectures\\lec 19\\prj face recognition\\cascades\\haarcascade_eye.xml\")\n",
    "\n",
    "eye_glasses = cv2.CascadeClassifier(\"E:\\Python lectures\\lec 19\\prj face recognition\\cascades\\haarcascade_eye_tree_eyeglasses.xml\")\n",
    "\n",
    "smile_cap = cv2.CascadeClassifier(\"E:\\Python lectures\\lec 19\\prj face recognition\\cascades\\haarcascade_smile.xml\")\n"
   ]
  },
  {
   "cell_type": "code",
   "execution_count": 77,
   "id": "e1a2e2b9",
   "metadata": {},
   "outputs": [],
   "source": [
    "cap = cv2.VideoCapture(0)\n"
   ]
  },
  {
   "cell_type": "code",
   "execution_count": 78,
   "id": "c2d8aa95",
   "metadata": {},
   "outputs": [],
   "source": [
    "\n",
    "while 1:\n",
    "    ret, img = cap.read()\n",
    "    gray = cv2.cvtColor(img, cv2.COLOR_BGR2GRAY)\n",
    "    faces = face_cascade.detectMultiScale(gray, 1.3, 5)\n",
    "    clock = clock_cap.detectMultiScale(gray,1.3,5) \n",
    "    car = cars_cap.detectMultiScale(gray,1.3,5) \n",
    "    smile = smile_cap.detectMultiScale(gray,1.3,5)\n",
    "    glasses = eye_glasses.detectMultiScale(gray,1.3,5)\n",
    "\n",
    "\n",
    "    for (x,y,w,h) in faces:\n",
    "        cv2.rectangle(img,(x,y),(x+w,y+h),(255,0,0),2)\n",
    "        roi_gray = gray[y:y+h, x:x+w]\n",
    "        roi_color = img[y:y+h, x:x+w]\n",
    "        \n",
    "        eyes = eye_cascade.detectMultiScale(roi_gray)\n",
    "        for (ex,ey,ew,eh) in eyes:\n",
    "            cv2.rectangle(roi_color,(ex,ey),(ex+ew,ey+eh),(0,255,0),2)\n",
    "\n",
    "            \n",
    "    for (ex,ey,ew,eh) in smile :\n",
    "        cv2.rectangle(img,(x,y),(x+w,y+h),(255,255,0),2)\n",
    "        roi_gray = gray[y:y+h, x:x+w]\n",
    "        roi_color = img[y:y+h, x:x+w]\n",
    "        \n",
    "#     for (ex,ey,ew,eh) in glasses :\n",
    "#         cv2.rectangle(img,(x,y),(x+w,y+h),(0,0,0),2)\n",
    "#         roi_gray = gray[y:y+h, x:x+w]\n",
    "#         roi_color = img[y:y+h, x:x+w]\n",
    "        \n",
    "    for (x,y,w,h) in clock:\n",
    "        cv2.rectangle(img,(x,y),(x+w,y+h),(0,0,255),2)\n",
    "        roi_gray = gray[y:y+h, x:x+w]\n",
    "        roi_color = img[y:y+h, x:x+w]\n",
    "        \n",
    "    for (x,y,w,h) in car:\n",
    "        cv2.rectangle(img,(x,y),(x+w,y+h),(0,255,255),2)\n",
    "        roi_gray = gray[y:y+h, x:x+w]\n",
    "        roi_color = img[y:y+h, x:x+w]\n",
    "        \n",
    "\n",
    "    cv2.imshow('img',img)\n",
    "    k = cv2.waitKey(30) & 0xff\n",
    "    if k == 27:\n",
    "        break\n",
    "        \n",
    "cap.release()\n",
    "cv2.destroyAllWindows()\n"
   ]
  },
  {
   "cell_type": "code",
   "execution_count": null,
   "id": "477f6b12",
   "metadata": {},
   "outputs": [],
   "source": []
  }
 ],
 "metadata": {
  "kernelspec": {
   "display_name": "Python 3 (ipykernel)",
   "language": "python",
   "name": "python3"
  },
  "language_info": {
   "codemirror_mode": {
    "name": "ipython",
    "version": 3
   },
   "file_extension": ".py",
   "mimetype": "text/x-python",
   "name": "python",
   "nbconvert_exporter": "python",
   "pygments_lexer": "ipython3",
   "version": "3.9.15"
  }
 },
 "nbformat": 4,
 "nbformat_minor": 5
}
